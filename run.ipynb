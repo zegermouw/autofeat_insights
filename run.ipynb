{
 "cells": [
  {
   "cell_type": "code",
   "execution_count": 1,
   "metadata": {},
   "outputs": [
    {
     "name": "stderr",
     "output_type": "stream",
     "text": [
      "/home/zeger/AutoFeatPackage/.venv/lib/python3.11/site-packages/tqdm/auto.py:21: TqdmWarning: IProgress not found. Please update jupyter and ipywidgets. See https://ipywidgets.readthedocs.io/en/stable/user_install.html\n",
      "  from .autonotebook import tqdm as notebook_tqdm\n"
     ]
    }
   ],
   "source": [
    "from autofeatinsights.Autofeat import AutofeatClass"
   ]
  },
  {
   "cell_type": "code",
   "execution_count": 2,
   "metadata": {},
   "outputs": [
    {
     "name": "stderr",
     "output_type": "stream",
     "text": [
      "INFO:root:Step 1: Running COMA on all 21 combinations of tables\n",
      "  0%|          | 0/21.0 [00:00<?, ?it/s]"
     ]
    },
    {
     "name": "stderr",
     "output_type": "stream",
     "text": [
      "100%|██████████| 21/21.0 [00:15<00:00,  1.38it/s]\n",
      "INFO:root:Step 2: Calculating paths\n",
      "INFO:root:Step 3: Evaluating paths\n",
      "100%|██████████| 6/6 [00:12<00:00,  2.11s/it]\n"
     ]
    }
   ],
   "source": [
    "autofeatclass = AutofeatClass(targetColumn=\"class\", base_table=\"table_0_0.csv\")\n",
    "autofeatclass.runAlgorithm(dataset=\"credit\")\n"
   ]
  },
  {
   "cell_type": "code",
   "execution_count": 10,
   "metadata": {},
   "outputs": [
    {
     "name": "stdout",
     "output_type": "stream",
     "text": [
      "This weight is calculated by the COMA algorithm. This calculates the similarity between the columns of the tables. The higher the similarity, the higher the weight. \n",
      " The weight from table_1_1.csv.Key_0_0 to table_0_0.csv.Key_0_0 is 0.79540735.\n"
     ]
    }
   ],
   "source": [
    "print(autofeatclass.weights.weights[0].why())"
   ]
  },
  {
   "cell_type": "code",
   "execution_count": 11,
   "metadata": {},
   "outputs": [
    {
     "name": "stdout",
     "output_type": "stream",
     "text": [
      "The result is calculated by evaluating the path with the AutoML algorithm AutoGluon. \n",
      " The AutoML algorithm is run on the path Begin: credit/table_0_0.csv\n",
      " \t('credit/table_0_0.csv-Key_0_0', 'credit/table_1_1.csv-Key_0_0')\n",
      " \t('credit/table_0_0.csv-Key_0_0', 'credit/table_1_2.csv-Key_0_0')\n",
      " \t('credit/table_1_2.csv-Key_1_2', 'credit/table_2_3.csv-Key_1_1')\n",
      " \t('credit/table_1_2.csv-Key_1_2', 'credit/table_2_4.csv-Key_1_1')\n",
      " \t('credit/table_1_2.csv-Key_1_2', 'credit/table_2_5.csv-Key_1_2')\n",
      " \t rank: 0.8822128295535643. \n",
      " The accuracy of the model is 0.72. \n",
      " The feature importance of the model is ({'checking_status': 0.036999999999999963, 'duration': 0.036999999999999963, 'purpose': 0.016000000000000014, 'job': 0.007000000000000006, 'existing_credits': 0.0030000000000000027, 'residence_since': 0.0030000000000000027, 'other_parties': 0.0030000000000000027, 'credit_amount': 0.0020000000000000018, 'foreign_worker': 0.0020000000000000018, 'housing': 0.0, 'num_dependents': 0.0, 'savings_status': 0.0, 'Key_1_1_x': -0.0010000000000000009, 'Key_0_0': -0.0010000000000000009, 'installment_commitment': -0.0020000000000000018, 'personal_status': -0.0020000000000000018, 'Key_1_2': -0.0040000000000000036, 'property_magnitude': -0.0050000000000000044, 'age': -0.0050000000000000044, 'own_telephone': -0.009000000000000008, 'employment': -0.010000000000000009, 'credit_history': -0.01200000000000001, 'other_payment_plans': -0.02400000000000002},).\n"
     ]
    }
   ],
   "source": [
    "print(autofeatclass.results.getBestResult().why())"
   ]
  }
 ],
 "metadata": {
  "kernelspec": {
   "display_name": ".venv",
   "language": "python",
   "name": "python3"
  },
  "language_info": {
   "codemirror_mode": {
    "name": "ipython",
    "version": 3
   },
   "file_extension": ".py",
   "mimetype": "text/x-python",
   "name": "python",
   "nbconvert_exporter": "python",
   "pygments_lexer": "ipython3",
   "version": "3.11.6"
  }
 },
 "nbformat": 4,
 "nbformat_minor": 2
}
